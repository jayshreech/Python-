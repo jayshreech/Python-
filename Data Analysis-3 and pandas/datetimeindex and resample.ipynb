{
 "cells": [
  {
   "cell_type": "code",
   "execution_count": 6,
   "metadata": {},
   "outputs": [
    {
     "data": {
      "text/html": [
       "<div>\n",
       "<style scoped>\n",
       "    .dataframe tbody tr th:only-of-type {\n",
       "        vertical-align: middle;\n",
       "    }\n",
       "\n",
       "    .dataframe tbody tr th {\n",
       "        vertical-align: top;\n",
       "    }\n",
       "\n",
       "    .dataframe thead th {\n",
       "        text-align: right;\n",
       "    }\n",
       "</style>\n",
       "<table border=\"1\" class=\"dataframe\">\n",
       "  <thead>\n",
       "    <tr style=\"text-align: right;\">\n",
       "      <th></th>\n",
       "      <th>Open</th>\n",
       "      <th>High</th>\n",
       "      <th>Low</th>\n",
       "      <th>Close</th>\n",
       "      <th>Adj Close</th>\n",
       "      <th>Volume</th>\n",
       "    </tr>\n",
       "    <tr>\n",
       "      <th>Date</th>\n",
       "      <th></th>\n",
       "      <th></th>\n",
       "      <th></th>\n",
       "      <th></th>\n",
       "      <th></th>\n",
       "      <th></th>\n",
       "    </tr>\n",
       "  </thead>\n",
       "  <tbody>\n",
       "    <tr>\n",
       "      <th>2019-08-15</th>\n",
       "      <td>203.460007</td>\n",
       "      <td>205.139999</td>\n",
       "      <td>199.669998</td>\n",
       "      <td>201.740005</td>\n",
       "      <td>199.758026</td>\n",
       "      <td>27227400</td>\n",
       "    </tr>\n",
       "    <tr>\n",
       "      <th>2019-08-16</th>\n",
       "      <td>204.279999</td>\n",
       "      <td>207.160004</td>\n",
       "      <td>203.839996</td>\n",
       "      <td>206.500000</td>\n",
       "      <td>204.471252</td>\n",
       "      <td>27620400</td>\n",
       "    </tr>\n",
       "    <tr>\n",
       "      <th>2019-08-19</th>\n",
       "      <td>210.619995</td>\n",
       "      <td>212.729996</td>\n",
       "      <td>210.029999</td>\n",
       "      <td>210.350006</td>\n",
       "      <td>208.283447</td>\n",
       "      <td>24413600</td>\n",
       "    </tr>\n",
       "    <tr>\n",
       "      <th>2019-08-20</th>\n",
       "      <td>210.880005</td>\n",
       "      <td>213.350006</td>\n",
       "      <td>210.320007</td>\n",
       "      <td>210.360001</td>\n",
       "      <td>208.293350</td>\n",
       "      <td>26884300</td>\n",
       "    </tr>\n",
       "    <tr>\n",
       "      <th>2019-08-21</th>\n",
       "      <td>212.990005</td>\n",
       "      <td>213.649994</td>\n",
       "      <td>211.600006</td>\n",
       "      <td>212.639999</td>\n",
       "      <td>210.550949</td>\n",
       "      <td>21535400</td>\n",
       "    </tr>\n",
       "  </tbody>\n",
       "</table>\n",
       "</div>"
      ],
      "text/plain": [
       "                  Open        High         Low       Close   Adj Close  \\\n",
       "Date                                                                     \n",
       "2019-08-15  203.460007  205.139999  199.669998  201.740005  199.758026   \n",
       "2019-08-16  204.279999  207.160004  203.839996  206.500000  204.471252   \n",
       "2019-08-19  210.619995  212.729996  210.029999  210.350006  208.283447   \n",
       "2019-08-20  210.880005  213.350006  210.320007  210.360001  208.293350   \n",
       "2019-08-21  212.990005  213.649994  211.600006  212.639999  210.550949   \n",
       "\n",
       "              Volume  \n",
       "Date                  \n",
       "2019-08-15  27227400  \n",
       "2019-08-16  27620400  \n",
       "2019-08-19  24413600  \n",
       "2019-08-20  26884300  \n",
       "2019-08-21  21535400  "
      ]
     },
     "execution_count": 6,
     "metadata": {},
     "output_type": "execute_result"
    }
   ],
   "source": [
    "import pandas as pd\n",
    "df=pd.read_csv(r\"C:\\Users\\Dell\\Downloads\\AAPL.csv\",parse_dates=[\"Date\"],index_col=\"Date\")\n",
    "df.head()"
   ]
  },
  {
   "cell_type": "code",
   "execution_count": 8,
   "metadata": {},
   "outputs": [
    {
     "data": {
      "text/plain": [
       "DatetimeIndex(['2019-08-15', '2019-08-16', '2019-08-19', '2019-08-20',\n",
       "               '2019-08-21', '2019-08-22', '2019-08-23', '2019-08-26',\n",
       "               '2019-08-27', '2019-08-28',\n",
       "               ...\n",
       "               '2020-03-08', '2020-04-08', '2020-05-08', '2020-06-08',\n",
       "               '2020-07-08', '2020-10-08', '2020-11-08', '2020-12-08',\n",
       "               '2020-08-13', '2020-08-14'],\n",
       "              dtype='datetime64[ns]', name='Date', length=253, freq=None)"
      ]
     },
     "execution_count": 8,
     "metadata": {},
     "output_type": "execute_result"
    }
   ],
   "source": [
    "df.index"
   ]
  },
  {
   "cell_type": "code",
   "execution_count": 12,
   "metadata": {},
   "outputs": [
    {
     "data": {
      "text/plain": [
       "240.20500149999998"
      ]
     },
     "execution_count": 12,
     "metadata": {},
     "output_type": "execute_result"
    }
   ],
   "source": [
    "df[\"2019-01\"].Close.mean()"
   ]
  },
  {
   "cell_type": "code",
   "execution_count": 15,
   "metadata": {},
   "outputs": [
    {
     "data": {
      "text/html": [
       "<div>\n",
       "<style scoped>\n",
       "    .dataframe tbody tr th:only-of-type {\n",
       "        vertical-align: middle;\n",
       "    }\n",
       "\n",
       "    .dataframe tbody tr th {\n",
       "        vertical-align: top;\n",
       "    }\n",
       "\n",
       "    .dataframe thead th {\n",
       "        text-align: right;\n",
       "    }\n",
       "</style>\n",
       "<table border=\"1\" class=\"dataframe\">\n",
       "  <thead>\n",
       "    <tr style=\"text-align: right;\">\n",
       "      <th></th>\n",
       "      <th>Open</th>\n",
       "      <th>High</th>\n",
       "      <th>Low</th>\n",
       "      <th>Close</th>\n",
       "      <th>Adj Close</th>\n",
       "      <th>Volume</th>\n",
       "    </tr>\n",
       "    <tr>\n",
       "      <th>Date</th>\n",
       "      <th></th>\n",
       "      <th></th>\n",
       "      <th></th>\n",
       "      <th></th>\n",
       "      <th></th>\n",
       "      <th></th>\n",
       "    </tr>\n",
       "  </thead>\n",
       "  <tbody>\n",
       "    <tr>\n",
       "      <th>2019-03-09</th>\n",
       "      <td>206.429993</td>\n",
       "      <td>206.979996</td>\n",
       "      <td>204.220001</td>\n",
       "      <td>205.699997</td>\n",
       "      <td>203.679108</td>\n",
       "      <td>20023000</td>\n",
       "    </tr>\n",
       "    <tr>\n",
       "      <th>2019-04-09</th>\n",
       "      <td>208.389999</td>\n",
       "      <td>209.479996</td>\n",
       "      <td>207.320007</td>\n",
       "      <td>209.190002</td>\n",
       "      <td>207.134857</td>\n",
       "      <td>19188100</td>\n",
       "    </tr>\n",
       "    <tr>\n",
       "      <th>2019-05-09</th>\n",
       "      <td>212.000000</td>\n",
       "      <td>213.970001</td>\n",
       "      <td>211.509995</td>\n",
       "      <td>213.279999</td>\n",
       "      <td>211.184647</td>\n",
       "      <td>23913700</td>\n",
       "    </tr>\n",
       "    <tr>\n",
       "      <th>2019-06-09</th>\n",
       "      <td>214.050003</td>\n",
       "      <td>214.419998</td>\n",
       "      <td>212.509995</td>\n",
       "      <td>213.259995</td>\n",
       "      <td>211.164841</td>\n",
       "      <td>19362300</td>\n",
       "    </tr>\n",
       "    <tr>\n",
       "      <th>2019-01-10</th>\n",
       "      <td>225.070007</td>\n",
       "      <td>228.220001</td>\n",
       "      <td>224.199997</td>\n",
       "      <td>224.589996</td>\n",
       "      <td>222.383545</td>\n",
       "      <td>34805800</td>\n",
       "    </tr>\n",
       "    <tr>\n",
       "      <th>2019-02-10</th>\n",
       "      <td>223.059998</td>\n",
       "      <td>223.580002</td>\n",
       "      <td>217.929993</td>\n",
       "      <td>218.960007</td>\n",
       "      <td>216.808853</td>\n",
       "      <td>34612300</td>\n",
       "    </tr>\n",
       "    <tr>\n",
       "      <th>2019-03-10</th>\n",
       "      <td>218.429993</td>\n",
       "      <td>220.960007</td>\n",
       "      <td>215.130005</td>\n",
       "      <td>220.820007</td>\n",
       "      <td>218.650574</td>\n",
       "      <td>28606500</td>\n",
       "    </tr>\n",
       "    <tr>\n",
       "      <th>2019-04-10</th>\n",
       "      <td>225.639999</td>\n",
       "      <td>227.490005</td>\n",
       "      <td>223.889999</td>\n",
       "      <td>227.009995</td>\n",
       "      <td>224.779770</td>\n",
       "      <td>34619700</td>\n",
       "    </tr>\n",
       "    <tr>\n",
       "      <th>2019-07-10</th>\n",
       "      <td>226.270004</td>\n",
       "      <td>229.929993</td>\n",
       "      <td>225.839996</td>\n",
       "      <td>227.059998</td>\n",
       "      <td>224.829269</td>\n",
       "      <td>30576500</td>\n",
       "    </tr>\n",
       "    <tr>\n",
       "      <th>2019-01-11</th>\n",
       "      <td>249.539993</td>\n",
       "      <td>255.929993</td>\n",
       "      <td>249.160004</td>\n",
       "      <td>255.820007</td>\n",
       "      <td>253.306732</td>\n",
       "      <td>37781300</td>\n",
       "    </tr>\n",
       "    <tr>\n",
       "      <th>2019-04-11</th>\n",
       "      <td>257.329987</td>\n",
       "      <td>257.850006</td>\n",
       "      <td>255.380005</td>\n",
       "      <td>257.500000</td>\n",
       "      <td>254.970215</td>\n",
       "      <td>25818000</td>\n",
       "    </tr>\n",
       "    <tr>\n",
       "      <th>2019-05-11</th>\n",
       "      <td>257.049988</td>\n",
       "      <td>258.190002</td>\n",
       "      <td>256.320007</td>\n",
       "      <td>257.130005</td>\n",
       "      <td>254.603882</td>\n",
       "      <td>19974400</td>\n",
       "    </tr>\n",
       "    <tr>\n",
       "      <th>2019-06-11</th>\n",
       "      <td>256.769989</td>\n",
       "      <td>257.489990</td>\n",
       "      <td>255.369995</td>\n",
       "      <td>257.239990</td>\n",
       "      <td>254.712769</td>\n",
       "      <td>18966100</td>\n",
       "    </tr>\n",
       "    <tr>\n",
       "      <th>2019-07-11</th>\n",
       "      <td>258.739990</td>\n",
       "      <td>260.350006</td>\n",
       "      <td>258.109985</td>\n",
       "      <td>259.429993</td>\n",
       "      <td>257.652466</td>\n",
       "      <td>23735100</td>\n",
       "    </tr>\n",
       "    <tr>\n",
       "      <th>2019-02-12</th>\n",
       "      <td>267.269989</td>\n",
       "      <td>268.250000</td>\n",
       "      <td>263.450012</td>\n",
       "      <td>264.160004</td>\n",
       "      <td>262.350067</td>\n",
       "      <td>23621800</td>\n",
       "    </tr>\n",
       "    <tr>\n",
       "      <th>2019-03-12</th>\n",
       "      <td>258.309998</td>\n",
       "      <td>259.529999</td>\n",
       "      <td>256.290009</td>\n",
       "      <td>259.450012</td>\n",
       "      <td>257.672363</td>\n",
       "      <td>28607600</td>\n",
       "    </tr>\n",
       "    <tr>\n",
       "      <th>2019-04-12</th>\n",
       "      <td>261.070007</td>\n",
       "      <td>263.309998</td>\n",
       "      <td>260.679993</td>\n",
       "      <td>261.739990</td>\n",
       "      <td>259.946655</td>\n",
       "      <td>16795400</td>\n",
       "    </tr>\n",
       "    <tr>\n",
       "      <th>2019-05-12</th>\n",
       "      <td>263.790009</td>\n",
       "      <td>265.890015</td>\n",
       "      <td>262.730011</td>\n",
       "      <td>265.579987</td>\n",
       "      <td>263.760345</td>\n",
       "      <td>18606100</td>\n",
       "    </tr>\n",
       "    <tr>\n",
       "      <th>2019-06-12</th>\n",
       "      <td>267.480011</td>\n",
       "      <td>271.000000</td>\n",
       "      <td>267.299988</td>\n",
       "      <td>270.709991</td>\n",
       "      <td>268.855194</td>\n",
       "      <td>26518900</td>\n",
       "    </tr>\n",
       "  </tbody>\n",
       "</table>\n",
       "</div>"
      ],
      "text/plain": [
       "                  Open        High         Low       Close   Adj Close  \\\n",
       "Date                                                                     \n",
       "2019-03-09  206.429993  206.979996  204.220001  205.699997  203.679108   \n",
       "2019-04-09  208.389999  209.479996  207.320007  209.190002  207.134857   \n",
       "2019-05-09  212.000000  213.970001  211.509995  213.279999  211.184647   \n",
       "2019-06-09  214.050003  214.419998  212.509995  213.259995  211.164841   \n",
       "2019-01-10  225.070007  228.220001  224.199997  224.589996  222.383545   \n",
       "2019-02-10  223.059998  223.580002  217.929993  218.960007  216.808853   \n",
       "2019-03-10  218.429993  220.960007  215.130005  220.820007  218.650574   \n",
       "2019-04-10  225.639999  227.490005  223.889999  227.009995  224.779770   \n",
       "2019-07-10  226.270004  229.929993  225.839996  227.059998  224.829269   \n",
       "2019-01-11  249.539993  255.929993  249.160004  255.820007  253.306732   \n",
       "2019-04-11  257.329987  257.850006  255.380005  257.500000  254.970215   \n",
       "2019-05-11  257.049988  258.190002  256.320007  257.130005  254.603882   \n",
       "2019-06-11  256.769989  257.489990  255.369995  257.239990  254.712769   \n",
       "2019-07-11  258.739990  260.350006  258.109985  259.429993  257.652466   \n",
       "2019-02-12  267.269989  268.250000  263.450012  264.160004  262.350067   \n",
       "2019-03-12  258.309998  259.529999  256.290009  259.450012  257.672363   \n",
       "2019-04-12  261.070007  263.309998  260.679993  261.739990  259.946655   \n",
       "2019-05-12  263.790009  265.890015  262.730011  265.579987  263.760345   \n",
       "2019-06-12  267.480011  271.000000  267.299988  270.709991  268.855194   \n",
       "\n",
       "              Volume  \n",
       "Date                  \n",
       "2019-03-09  20023000  \n",
       "2019-04-09  19188100  \n",
       "2019-05-09  23913700  \n",
       "2019-06-09  19362300  \n",
       "2019-01-10  34805800  \n",
       "2019-02-10  34612300  \n",
       "2019-03-10  28606500  \n",
       "2019-04-10  34619700  \n",
       "2019-07-10  30576500  \n",
       "2019-01-11  37781300  \n",
       "2019-04-11  25818000  \n",
       "2019-05-11  19974400  \n",
       "2019-06-11  18966100  \n",
       "2019-07-11  23735100  \n",
       "2019-02-12  23621800  \n",
       "2019-03-12  28607600  \n",
       "2019-04-12  16795400  \n",
       "2019-05-12  18606100  \n",
       "2019-06-12  26518900  "
      ]
     },
     "execution_count": 15,
     "metadata": {},
     "output_type": "execute_result"
    }
   ],
   "source": [
    "df[\"2019-01-07\":\"2019-08-02\"]"
   ]
  },
  {
   "cell_type": "code",
   "execution_count": 16,
   "metadata": {},
   "outputs": [
    {
     "data": {
      "text/plain": [
       "Date\n",
       "2019-01-31    240.205001\n",
       "2019-02-28    241.560005\n",
       "2019-03-31    228.656672\n",
       "2019-04-30    238.859997\n",
       "2019-05-31    245.329997\n",
       "2019-06-30    247.069992\n",
       "2019-07-31    243.244996\n",
       "2019-08-31    212.511431\n",
       "2019-09-30    223.269334\n",
       "2019-10-31    240.628823\n",
       "2019-11-30    260.735003\n",
       "2019-12-31    277.618660\n",
       "2020-01-31    313.725557\n",
       "2020-02-29    305.194994\n",
       "2020-03-31    269.656317\n",
       "2020-04-30    295.401578\n",
       "2020-05-31    321.334121\n",
       "2020-06-30    346.590523\n",
       "2020-07-31    370.749525\n",
       "2020-08-31    359.127145\n",
       "2020-09-30    314.158002\n",
       "2020-10-31    350.774994\n",
       "2020-11-30    336.689996\n",
       "2020-12-31    335.536002\n",
       "Freq: M, Name: Close, dtype: float64"
      ]
     },
     "execution_count": 16,
     "metadata": {},
     "output_type": "execute_result"
    }
   ],
   "source": [
    "df.Close.resample('M').mean()"
   ]
  },
  {
   "cell_type": "code",
   "execution_count": 17,
   "metadata": {},
   "outputs": [
    {
     "data": {
      "text/plain": [
       "<matplotlib.axes._subplots.AxesSubplot at 0x22477e09dd8>"
      ]
     },
     "execution_count": 17,
     "metadata": {},
     "output_type": "execute_result"
    },
    {
     "data": {
      "image/png": "[encoded data removed]",
      "text/plain": [
       "<Figure size 432x288 with 1 Axes>"
      ]
     },
     "metadata": {
      "needs_background": "light"
     },
     "output_type": "display_data"
    }
   ],
   "source": [
    "df.Close.resample('M').mean().plot()"
   ]
  },
  {
   "cell_type": "code",
   "execution_count": 18,
   "metadata": {},
   "outputs": [
    {
     "data": {
      "text/plain": [
       "<matplotlib.axes._subplots.AxesSubplot at 0x224781eac50>"
      ]
     },
     "execution_count": 18,
     "metadata": {},
     "output_type": "execute_result"
    },
    {
     "data": {
      "image/png": "[encoded data removed]",
      "text/plain": [
       "<Figure size 432x288 with 1 Axes>"
      ]
     },
     "metadata": {
      "needs_background": "light"
     },
     "output_type": "display_data"
    }
   ],
   "source": [
    "df.Close.resample('W').mean().plot()"
   ]
  },
  {
   "cell_type": "code",
   "execution_count": 19,
   "metadata": {},
   "outputs": [
    {
     "data": {
      "text/plain": [
       "<matplotlib.axes._subplots.AxesSubplot at 0x22478285dd8>"
      ]
     },
     "execution_count": 19,
     "metadata": {},
     "output_type": "execute_result"
    },
    {
     "data": {
      "image/png": "[encoded data removed]",
      "text/plain": [
       "<Figure size 432x288 with 1 Axes>"
      ]
     },
     "metadata": {
      "needs_background": "light"
     },
     "output_type": "display_data"
    }
   ],
   "source": [
    "df.Close.resample('Q').mean().plot()"
   ]
  },
  {
   "cell_type": "code",
   "execution_count": 20,
   "metadata": {},
   "outputs": [
    {
     "data": {
      "text/plain": [
       "<matplotlib.axes._subplots.AxesSubplot at 0x224782d5828>"
      ]
     },
     "execution_count": 20,
     "metadata": {},
     "output_type": "execute_result"
    },
    {
     "data": {
      "image/png": "[encoded data removed]",
      "text/plain": [
       "<Figure size 432x288 with 1 Axes>"
      ]
     },
     "metadata": {
      "needs_background": "light"
     },
     "output_type": "display_data"
    }
   ],
   "source": [
    "df.Close.resample('Q').mean().plot(kind='bar')"
   ]
  },
  {
   "cell_type": "code",
   "execution_count": 21,
   "metadata": {},
   "outputs": [
    {
     "data": {
      "text/plain": [
       "<matplotlib.axes._subplots.AxesSubplot at 0x2247836aef0>"
      ]
     },
     "execution_count": 21,
     "metadata": {},
     "output_type": "execute_result"
    },
    {
     "data": {
      "image/png": "[encoded data removed]",
      "text/plain": [
       "<Figure size 432x288 with 1 Axes>"
      ]
     },
     "metadata": {
      "needs_background": "light"
     },
     "output_type": "display_data"
    }
   ],
   "source": [
    "df.Close.plot()"
   ]
  },
  {
   "cell_type": "code",
   "execution_count": null,
   "metadata": {},
   "outputs": [],
   "source": []
  }
 ],
 "metadata": {
  "kernelspec": {
   "display_name": "Python 3",
   "language": "python",
   "name": "python3"
  },
  "language_info": {
   "codemirror_mode": {
    "name": "ipython",
    "version": 3
   },
   "file_extension": ".py",
   "mimetype": "text/x-python",
   "name": "python",
   "nbconvert_exporter": "python",
   "pygments_lexer": "ipython3",
   "version": "3.6.10"
  }
 },
 "nbformat": 4,
 "nbformat_minor": 4
}
