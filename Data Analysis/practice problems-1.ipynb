{
 "cells": [
  {
   "cell_type": "code",
   "execution_count": 2,
   "metadata": {},
   "outputs": [],
   "source": [
    "birth_year=1997\n",
    "current_year=2020\n",
    "age=current_year-birth_year"
   ]
  },
  {
   "cell_type": "code",
   "execution_count": 3,
   "metadata": {},
   "outputs": [
    {
     "data": {
      "text/plain": [
       "23"
      ]
     },
     "execution_count": 3,
     "metadata": {},
     "output_type": "execute_result"
    }
   ],
   "source": [
    "age"
   ]
  },
  {
   "cell_type": "code",
   "execution_count": 4,
   "metadata": {},
   "outputs": [
    {
     "data": {
      "text/plain": [
       "165.0"
      ]
     },
     "execution_count": 4,
     "metadata": {},
     "output_type": "execute_result"
    }
   ],
   "source": [
    "base=15\n",
    "height=22\n",
    "area=0.5*base*height\n",
    "area"
   ]
  },
  {
   "cell_type": "code",
   "execution_count": 5,
   "metadata": {},
   "outputs": [
    {
     "data": {
      "text/plain": [
       "6.59"
      ]
     },
     "execution_count": 5,
     "metadata": {},
     "output_type": "execute_result"
    }
   ],
   "source": [
    "price_per_packet=1.49\n",
    "price_paid=20\n",
    "price_get=price_paid-(9*price_per_packet)\n",
    "price_get"
   ]
  },
  {
   "cell_type": "code",
   "execution_count": 6,
   "metadata": {},
   "outputs": [
    {
     "data": {
      "text/plain": [
       "30.25"
      ]
     },
     "execution_count": 6,
     "metadata": {},
     "output_type": "execute_result"
    }
   ],
   "source": [
    "length=5.5\n",
    "area=length**2\n",
    "area"
   ]
  },
  {
   "cell_type": "code",
   "execution_count": 11,
   "metadata": {},
   "outputs": [
    {
     "data": {
      "text/plain": [
       "'revolves'"
      ]
     },
     "execution_count": 11,
     "metadata": {},
     "output_type": "execute_result"
    }
   ],
   "source": [
    "str1=\"Earth revolves around the sun\"\n",
    "str1[6:14]"
   ]
  },
  {
   "cell_type": "code",
   "execution_count": 17,
   "metadata": {},
   "outputs": [
    {
     "data": {
      "text/plain": [
       "'sun'"
      ]
     },
     "execution_count": 17,
     "metadata": {},
     "output_type": "execute_result"
    }
   ],
   "source": [
    "str1[-3:]"
   ]
  },
  {
   "cell_type": "code",
   "execution_count": 20,
   "metadata": {},
   "outputs": [
    {
     "data": {
      "text/plain": [
       "'Earth revolves around the \"sun\"'"
      ]
     },
     "execution_count": 20,
     "metadata": {},
     "output_type": "execute_result"
    }
   ],
   "source": [
    "str2='Earth revolves around the \"sun\"'\n",
    "str2"
   ]
  },
  {
   "cell_type": "code",
   "execution_count": 26,
   "metadata": {},
   "outputs": [
    {
     "name": "stdout",
     "output_type": "stream",
     "text": [
      "i like eating 2 veggies and fruits\n"
     ]
    }
   ],
   "source": [
    "t1='i like eating'\n",
    "t2='veggies'\n",
    "t3='fruits'\n",
    "no=2\n",
    "print(t1+' '+str(no)+' '+ t2 +' '+'and'+' '+t3)"
   ]
  },
  {
   "cell_type": "code",
   "execution_count": 27,
   "metadata": {},
   "outputs": [
    {
     "data": {
      "text/plain": [
       "150"
      ]
     },
     "execution_count": 27,
     "metadata": {},
     "output_type": "execute_result"
    }
   ],
   "source": [
    "expense=[2200,2350,2600,2130,2190]\n",
    "spent_extra=expense[1]-expense[0]\n",
    "spent_extra"
   ]
  },
  {
   "cell_type": "code",
   "execution_count": 28,
   "metadata": {},
   "outputs": [
    {
     "data": {
      "text/plain": [
       "7150"
      ]
     },
     "execution_count": 28,
     "metadata": {},
     "output_type": "execute_result"
    }
   ],
   "source": [
    "total_expense=expense[0]+expense[1]+expense[2]\n",
    "total_expense"
   ]
  },
  {
   "cell_type": "code",
   "execution_count": 30,
   "metadata": {},
   "outputs": [
    {
     "data": {
      "text/plain": [
       "False"
      ]
     },
     "execution_count": 30,
     "metadata": {},
     "output_type": "execute_result"
    }
   ],
   "source": [
    "2000 in expense"
   ]
  },
  {
   "cell_type": "code",
   "execution_count": 31,
   "metadata": {},
   "outputs": [],
   "source": [
    "expense.append(1980)"
   ]
  },
  {
   "cell_type": "code",
   "execution_count": 32,
   "metadata": {},
   "outputs": [
    {
     "data": {
      "text/plain": [
       "[2200, 2350, 2600, 2130, 2190, 1980]"
      ]
     },
     "execution_count": 32,
     "metadata": {},
     "output_type": "execute_result"
    }
   ],
   "source": [
    "expense"
   ]
  },
  {
   "cell_type": "code",
   "execution_count": 33,
   "metadata": {},
   "outputs": [
    {
     "data": {
      "text/plain": [
       "1930"
      ]
     },
     "execution_count": 33,
     "metadata": {},
     "output_type": "execute_result"
    }
   ],
   "source": [
    "expense[3]=expense[3]-200\n",
    "expense[3]"
   ]
  },
  {
   "cell_type": "code",
   "execution_count": 35,
   "metadata": {},
   "outputs": [],
   "source": [
    "usa = [ 'atlanta', 'new york', 'chicago', 'baltimore']\n",
    "\n",
    "uk = ['london', 'bristol', 'cambridge']\n",
    "\n",
    "india = ['mumbai','delhi', 'banglore']"
   ]
  },
  {
   "cell_type": "code",
   "execution_count": 37,
   "metadata": {},
   "outputs": [
    {
     "name": "stdout",
     "output_type": "stream",
     "text": [
      "Enter a city name :delhi\n",
      "this city is in india\n"
     ]
    }
   ],
   "source": [
    "city=input(\"Enter a city name :\")\n",
    "if city in usa:\n",
    "    print(\"this city is in usa\")\n",
    "elif city in uk:\n",
    "    print(\"this city is in uk\")\n",
    "elif city in india:\n",
    "    print(\"this city is in india\")\n",
    "else:\n",
    "    print(\"city not found\")"
   ]
  },
  {
   "cell_type": "code",
   "execution_count": 39,
   "metadata": {},
   "outputs": [
    {
     "name": "stdout",
     "output_type": "stream",
     "text": [
      "enter first city name:delhi\n",
      "enter second city name:mumbai\n",
      "both cities are in same country\n"
     ]
    }
   ],
   "source": [
    "city1=input(\"enter first city name:\")\n",
    "city2=input(\"enter second city name:\")\n",
    "if city1 in usa and city2 in usa:\n",
    "    print(\"both cities are in same country\")\n",
    "elif city1 in uk and city2 in uk:\n",
    "    print(\"both cities are in same country\")\n",
    "elif city1 in india and city2 in india:\n",
    "    print(\"both cities are in same country\")\n",
    "else:\n",
    "    print(\"both are in different countries\")\n",
    "    "
   ]
  },
  {
   "cell_type": "code",
   "execution_count": 43,
   "metadata": {},
   "outputs": [
    {
     "name": "stdout",
     "output_type": "stream",
     "text": [
      "total number of heads: 4\n"
     ]
    }
   ],
   "source": [
    "result = [\"heads\",\"tails\",\"tails\",\"heads\",\"tails\",\"heads\",\"heads\",\"tails\",\"tails\",\"tails\"]\n",
    "count=0\n",
    "for i in result:\n",
    "    if i==\"heads\":\n",
    "        count+=1\n",
    "print(\"total number of heads:\",count)    "
   ]
  },
  {
   "cell_type": "code",
   "execution_count": 53,
   "metadata": {},
   "outputs": [
    {
     "name": "stdout",
     "output_type": "stream",
     "text": [
      "enter amount :2100\n",
      "expense not found\n",
      "expense not found\n",
      "expense 2100 occured in March\n"
     ]
    }
   ],
   "source": [
    "expense_list = [2340, 2500, 2100, 3100, 2980]\n",
    "month_list=[\"Jan\",\"Feb\",\"March\",\"April\",\"May\"]\n",
    "expense_amount=int(input(\"enter amount :\"))\n",
    "for i in range(len(expense_list)):\n",
    "    if expense_amount!=expense_list[i]:\n",
    "        print(\"expense not found\")\n",
    "        continue\n",
    "    else:\n",
    "        print(\"expense\",expense_amount,\"occured in\",month_list[i])\n",
    "        break\n",
    "        "
   ]
  },
  {
   "cell_type": "code",
   "execution_count": 62,
   "metadata": {},
   "outputs": [
    {
     "name": "stdout",
     "output_type": "stream",
     "text": [
      "*\r\n",
      "**\r\n",
      "***\r\n",
      "****\r\n",
      "*****\r\n"
     ]
    }
   ],
   "source": [
    "for i in range(1,6):\n",
    "    for j in range(i):\n",
    "        print('*',end='')\n",
    "    print(\"\\r\")"
   ]
  },
  {
   "cell_type": "code",
   "execution_count": 61,
   "metadata": {},
   "outputs": [
    {
     "name": "stdout",
     "output_type": "stream",
     "text": [
      "area of triangle: 8\n"
     ]
    }
   ],
   "source": [
    "def calculate_area(base,height,shape):\n",
    "    if shape==\"rectangle\":\n",
    "        area1=base*height\n",
    "        return area1\n",
    "    else:\n",
    "        area2=(1/2)*base*height\n",
    "        return area2\n",
    "n=calculate_area(2,4,\"rectangle\")\n",
    "print(\"area of triangle:\",n)\n",
    "    "
   ]
  },
  {
   "cell_type": "code",
   "execution_count": 76,
   "metadata": {},
   "outputs": [
    {
     "name": "stdout",
     "output_type": "stream",
     "text": [
      "*\r\n",
      "**\r\n",
      "***\r\n",
      "****\r\n",
      "*****\r\n"
     ]
    }
   ],
   "source": [
    "pattern=0\n",
    "def print_pattern(n):\n",
    "    if n==\"null\":\n",
    "        for i in range(1,6):\n",
    "            for j in range(i):\n",
    "                pattern=print('*',end='')\n",
    "            print(\"\\r\")\n",
    "    else:\n",
    "        for i in range(n):\n",
    "            for j in range(i+1):\n",
    "                pattern=print('*',end='')\n",
    "            print(\"\\r\")\n",
    "        return(pattern)\n",
    "p=print_pattern('null')"
   ]
  },
  {
   "cell_type": "code",
   "execution_count": null,
   "metadata": {},
   "outputs": [],
   "source": [
    "dict = {}\n",
    "n = int(input(\"Enter total numbers of records : \"))\n",
    "for i in range(n):\n",
    "    i = input(\"Enter Name : \")\n",
    "    j = input(\"Enter Age : \")\n",
    "    dict[i] = j\n",
    "    \n",
    "search_name = input(\"Enter name for search : \")\n",
    "if search_name in dict:\n",
    "    print(dict[search_name])\n",
    "else:\n",
    "    print(\"Not Found\")\n"
   ]
  },
  {
   "cell_type": "code",
   "execution_count": null,
   "metadata": {},
   "outputs": [],
   "source": [
    "dict = {}\n",
    "n = int(input(\"Enter total numbers of records : \"))\n",
    "for i in range(n):\n",
    "    i = input(\"Enter Name : \")\n",
    "    j = input(\"Enter Age : \")\n",
    "    dict[i] = j\n",
    "    \n",
    "search_name = input(\"Enter name for search : \")\n",
    "if search_name in dict:\n",
    "    print(dict[search_name])\n",
    "else:\n",
    "    print(\"Not Found\")\n",
    "print(dict)"
   ]
  },
  {
   "cell_type": "code",
   "execution_count": null,
   "metadata": {},
   "outputs": [],
   "source": []
  }
 ],
 "metadata": {
  "kernelspec": {
   "display_name": "Python 3",
   "language": "python",
   "name": "python3"
  },
  "language_info": {
   "codemirror_mode": {
    "name": "ipython",
    "version": 3
   },
   "file_extension": ".py",
   "mimetype": "text/x-python",
   "name": "python",
   "nbconvert_exporter": "python",
   "pygments_lexer": "ipython3",
   "version": "3.6.10"
  }
 },
 "nbformat": 4,
 "nbformat_minor": 4
}
