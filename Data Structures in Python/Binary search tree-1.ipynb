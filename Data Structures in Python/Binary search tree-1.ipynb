{
 "cells": [
  {
   "cell_type": "code",
   "execution_count": 7,
   "metadata": {},
   "outputs": [
    {
     "name": "stdout",
     "output_type": "stream",
     "text": [
      "Global\n",
      "   |__India\n",
      "      |__Gujarat\n",
      "      |__Karnataka\n",
      "   |__USA\n",
      "      |__New Jersey\n",
      "      |__California\n"
     ]
    }
   ],
   "source": [
    "class TreeNode:\n",
    "    def __init__(self,data):\n",
    "        self.data=data\n",
    "        self.children=[]\n",
    "        self.parent=None\n",
    "    \n",
    "    def get_level(self):\n",
    "        level=0\n",
    "        p=self.parent\n",
    "        while p:\n",
    "            level+=1\n",
    "            p=p.parent\n",
    "        return level\n",
    "    \n",
    "    def print_tree(self,level):\n",
    "        if self.get_level()>level:\n",
    "            return\n",
    "            \n",
    "        spaces = ' ' * self.get_level() * 3\n",
    "        prefix = spaces + \"|__\" if self.parent else \"\"\n",
    "        print(prefix + self.data)\n",
    "        if self.children:\n",
    "            for child in self.children:\n",
    "                child.print_tree(level)\n",
    "    \n",
    "    def add_child(self,child):\n",
    "        child.parent=self\n",
    "        self.children.append(child)\n",
    "    \n",
    "def build_location_tree():\n",
    "    root = TreeNode(\"Global\")\n",
    "    india=TreeNode(\"India\")\n",
    "    gujarat = TreeNode(\"Gujarat\")\n",
    "    gujarat.add_child(TreeNode(\"Ahmedabad\"))\n",
    "    gujarat.add_child(TreeNode(\"Baroda\"))\n",
    "    karnataka = TreeNode(\"Karnataka\")\n",
    "    karnataka.add_child(TreeNode(\"Bangluru\"))\n",
    "    karnataka.add_child(TreeNode(\"Mysore\"))\n",
    "    india.add_child(gujarat)\n",
    "    india.add_child(karnataka)\n",
    "    nj = TreeNode(\"New Jersey\")\n",
    "    nj.add_child(TreeNode(\"Princeton\"))\n",
    "    nj.add_child(TreeNode(\"Trenton\"))\n",
    "\n",
    "    california = TreeNode(\"California\")\n",
    "    california.add_child(TreeNode(\"San Francisco\"))\n",
    "    california.add_child(TreeNode(\"Mountain View\"))\n",
    "    california.add_child(TreeNode(\"Palo Alto\"))\n",
    "    usa=TreeNode(\"USA\")\n",
    "    usa.add_child(nj)\n",
    "    usa.add_child(california)\n",
    "\n",
    "    root.add_child(india)\n",
    "    root.add_child(usa)\n",
    "\n",
    "    return root\n",
    "\n",
    "if __name__=='__main__':\n",
    "    root_node = build_location_tree()\n",
    "    root_node.print_tree(2)\n",
    "    "
   ]
  },
  {
   "cell_type": "code",
   "execution_count": null,
   "metadata": {},
   "outputs": [],
   "source": []
  }
 ],
 "metadata": {
  "kernelspec": {
   "display_name": "Python 3",
   "language": "python",
   "name": "python3"
  },
  "language_info": {
   "codemirror_mode": {
    "name": "ipython",
    "version": 3
   },
   "file_extension": ".py",
   "mimetype": "text/x-python",
   "name": "python",
   "nbconvert_exporter": "python",
   "pygments_lexer": "ipython3",
   "version": "3.6.10"
  }
 },
 "nbformat": 4,
 "nbformat_minor": 4
}
