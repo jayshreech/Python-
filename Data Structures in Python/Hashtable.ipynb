{
 "cells": [
  {
   "cell_type": "code",
   "execution_count": 11,
   "metadata": {},
   "outputs": [],
   "source": [
    "class Hashtable:\n",
    "    def __init__(self):\n",
    "        self.MAX=10\n",
    "        self.arr=[[] for i in range(self.MAX)]\n",
    "    \n",
    "    def get_hash(self,key):\n",
    "        hash=0\n",
    "        for char in key:\n",
    "            hash+= ord(char)\n",
    "        return hash % self.MAX\n",
    "    \n",
    "    def __getitem__(self,index):\n",
    "        h=self.get_hash(index)\n",
    "        if self.arr[h] is None:\n",
    "            return\n",
    "        prob_range = self.get_prob_range(h)\n",
    "        for prob_index in prob_range:\n",
    "            element = self.arr[prob_index]\n",
    "            if element is None:\n",
    "                return\n",
    "            if element[0] == key:\n",
    "                return element[1]\n",
    "        \n",
    "    \n",
    "    def __setitem__(self,index):\n",
    "        h=self.get_hash(index)\n",
    "        if self.arr[h] is None:\n",
    "            self.arr[h]=(key,val)\n",
    "        else:\n",
    "            new_h=self.find_slot(key,h)\n",
    "            self.arr[new_h]=(key,value)\n",
    "        print(self.arr)\n",
    "        \n",
    "    def get_prob_range(self,index):\n",
    "        return [*range(index, len(self.arr))] + [*range(0,index)]\n",
    "        \n",
    "    def find_slot(self,key,index):\n",
    "        prob_range=self.get_prob_range(index)\n",
    "        for prob_index in prob_range:\n",
    "            if self.arr[prob_index] is None:\n",
    "                return prob_index\n",
    "            if self.arr[prob_index][0] == key:\n",
    "                return prob_index\n",
    "        raise Exception(\"Hashmap full\")\n",
    "    def __delitem__(self,key):\n",
    "        h=self.get_hash(key)\n",
    "        prob_range=self.get_prob_range(h)\n",
    "        for prob_index in prob_range:\n",
    "            if self.arr[prob_index] is None:\n",
    "                return # item not found so return. You can also throw exception\n",
    "            if self.arr[prob_index][0] == key:\n",
    "                self.arr[prob_index]=None\n",
    "        print(self.arr)\n",
    "            "
   ]
  },
  {
   "cell_type": "code",
   "execution_count": null,
   "metadata": {},
   "outputs": [],
   "source": []
  }
 ],
 "metadata": {
  "kernelspec": {
   "display_name": "Python 3",
   "language": "python",
   "name": "python3"
  },
  "language_info": {
   "codemirror_mode": {
    "name": "ipython",
    "version": 3
   },
   "file_extension": ".py",
   "mimetype": "text/x-python",
   "name": "python",
   "nbconvert_exporter": "python",
   "pygments_lexer": "ipython3",
   "version": "3.6.10"
  }
 },
 "nbformat": 4,
 "nbformat_minor": 4
}
