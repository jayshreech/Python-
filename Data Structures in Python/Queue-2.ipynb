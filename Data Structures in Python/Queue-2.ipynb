{
 "cells": [
  {
   "cell_type": "code",
   "execution_count": 1,
   "metadata": {},
   "outputs": [],
   "source": [
    "import time\n",
    "import threading"
   ]
  },
  {
   "cell_type": "code",
   "execution_count": 2,
   "metadata": {},
   "outputs": [],
   "source": [
    "from collections import deque\n",
    "class Queue:\n",
    "    def __init__(self):\n",
    "        self.buffer=deque()\n",
    "    def enqueue(self,val):\n",
    "        self.buffer.appendleft(val)\n",
    "    def dequeue(self):\n",
    "        if len(self.buffer)==0:\n",
    "            print(\"queue is empty\")\n",
    "            return\n",
    "        return self.buffer.pop()\n",
    "    def isempty(self):\n",
    "        return len(self.buffer)==0\n",
    "    def size(self):\n",
    "        return len(self.buffer)"
   ]
  },
  {
   "cell_type": "code",
   "execution_count": 3,
   "metadata": {},
   "outputs": [],
   "source": [
    "food_order_queue=Queue()\n",
    "def place_order(orders):\n",
    "    for order in orders:\n",
    "        print(\"placing order for:\",order)\n",
    "        food_order_queue.enqueue(order)\n",
    "        time.sleep(0.5)   "
   ]
  },
  {
   "cell_type": "code",
   "execution_count": 4,
   "metadata": {},
   "outputs": [],
   "source": [
    "def serve_order():\n",
    "    time.sleep(1)\n",
    "    while True:\n",
    "        order=food_order_queue.dequeue(order)\n",
    "        print(\"Now serving:\",order)\n",
    "        time.sleep(2)"
   ]
  },
  {
   "cell_type": "code",
   "execution_count": 6,
   "metadata": {},
   "outputs": [
    {
     "name": "stdout",
     "output_type": "stream",
     "text": [
      "placing order for: pizza\n",
      "placing order for: samosa\n",
      "placing order for: pasta\n"
     ]
    },
    {
     "name": "stderr",
     "output_type": "stream",
     "text": [
      "Exception in thread Thread-8:\n",
      "Traceback (most recent call last):\n",
      "  File \"C:\\Users\\Dell\\OneDrive\\Documents\\envs\\py36\\lib\\threading.py\", line 916, in _bootstrap_inner\n",
      "    self.run()\n",
      "  File \"C:\\Users\\Dell\\OneDrive\\Documents\\envs\\py36\\lib\\threading.py\", line 864, in run\n",
      "    self._target(*self._args, **self._kwargs)\n",
      "  File \"<ipython-input-4-4922c22a168b>\", line 4, in serve_order\n",
      "    order=food_order_queue.dequeue(order)\n",
      "UnboundLocalError: local variable 'order' referenced before assignment\n",
      "\n"
     ]
    },
    {
     "name": "stdout",
     "output_type": "stream",
     "text": [
      "placing order for: biryani\n",
      "placing order for: burger\n"
     ]
    }
   ],
   "source": [
    "if __name__=='__main__':\n",
    "    orders=['pizza','samosa','pasta','biryani','burger']\n",
    "    t1=threading.Thread(target=place_order,args=(orders,))\n",
    "    t2=threading.Thread(target=serve_order)\n",
    "    t1.start()\n",
    "    t2.start()"
   ]
  },
  {
   "cell_type": "code",
   "execution_count": null,
   "metadata": {},
   "outputs": [],
   "source": []
  }
 ],
 "metadata": {
  "kernelspec": {
   "display_name": "Python 3",
   "language": "python",
   "name": "python3"
  },
  "language_info": {
   "codemirror_mode": {
    "name": "ipython",
    "version": 3
   },
   "file_extension": ".py",
   "mimetype": "text/x-python",
   "name": "python",
   "nbconvert_exporter": "python",
   "pygments_lexer": "ipython3",
   "version": "3.6.10"
  }
 },
 "nbformat": 4,
 "nbformat_minor": 4
}
