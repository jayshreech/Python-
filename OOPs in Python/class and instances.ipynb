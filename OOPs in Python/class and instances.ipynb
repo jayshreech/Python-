{
 "cells": [
  {
   "cell_type": "code",
   "execution_count": 3,
   "metadata": {},
   "outputs": [
    {
     "name": "stdout",
     "output_type": "stream",
     "text": [
      "<__main__.Employee object at 0x000001F955745F98>\n",
      "jayshree\n"
     ]
    }
   ],
   "source": [
    "class Employee:\n",
    "    pass\n",
    "\n",
    "emp1=Employee()\n",
    "\n",
    "print(emp1)\n",
    "\n",
    "emp1.first = 'jayshree'\n",
    "emp1.last = 'choudhury'\n",
    "\n",
    "print(emp1.first)"
   ]
  },
  {
   "cell_type": "code",
   "execution_count": 6,
   "metadata": {},
   "outputs": [],
   "source": [
    "class Employer:\n",
    "    def __init__(self,fname,lname,email):\n",
    "        self.fname=fname\n",
    "        self.lname=lname\n",
    "        self.email= fname+\".\"+lname+\"@gmail.com\"\n",
    "    def fullname(self):\n",
    "        return '{} {}'.format(self.fname,self.lname)\n",
    "emp_1 = Employer('rey', 'afer', 'rey.afer@gmail.com')\n",
    "emp_2 = Employer('Test', 'Employee', 'test.employee@gmail.com')    "
   ]
  },
  {
   "cell_type": "code",
   "execution_count": 7,
   "metadata": {},
   "outputs": [
    {
     "data": {
      "text/plain": [
       "'rey afer'"
      ]
     },
     "execution_count": 7,
     "metadata": {},
     "output_type": "execute_result"
    }
   ],
   "source": [
    "emp_1.fullname()"
   ]
  },
  {
   "cell_type": "code",
   "execution_count": 9,
   "metadata": {},
   "outputs": [
    {
     "name": "stdout",
     "output_type": "stream",
     "text": [
      "Test Employee\n"
     ]
    }
   ],
   "source": [
    "print(Employer.fullname(emp_2))"
   ]
  },
  {
   "cell_type": "code",
   "execution_count": null,
   "metadata": {},
   "outputs": [],
   "source": []
  }
 ],
 "metadata": {
  "kernelspec": {
   "display_name": "Python 3",
   "language": "python",
   "name": "python3"
  },
  "language_info": {
   "codemirror_mode": {
    "name": "ipython",
    "version": 3
   },
   "file_extension": ".py",
   "mimetype": "text/x-python",
   "name": "python",
   "nbconvert_exporter": "python",
   "pygments_lexer": "ipython3",
   "version": "3.6.10"
  }
 },
 "nbformat": 4,
 "nbformat_minor": 4
}
