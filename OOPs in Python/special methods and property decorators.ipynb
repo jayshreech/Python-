{
 "cells": [
  {
   "cell_type": "code",
   "execution_count": 2,
   "metadata": {},
   "outputs": [
    {
     "name": "stdout",
     "output_type": "stream",
     "text": [
      "110000\n"
     ]
    }
   ],
   "source": [
    "class Employee:\n",
    "    raise_amt = 1.04\n",
    "    \n",
    "    def __init__(self,first,last,pay):\n",
    "        self.first=first\n",
    "        self.last=last\n",
    "        self.email=first + \".\" + last + \"@gmail.com\"\n",
    "        self.pay=pay\n",
    "    def fullname(self):\n",
    "        return '{} {}'.format(self.first,self.last)\n",
    "    def apply_raise(self):\n",
    "        self.pay = int(self.pay * self.raise_amt)\n",
    "    def __repr__(self):\n",
    "        return \"Employee('{} {} {}')\".format(self.first,self.last,self.pay)\n",
    "    def __str__(self):\n",
    "        return '{} - {}'.format(self.fullname(),self.email)\n",
    "    def __add__(self,other):\n",
    "        return self.pay + other.pay\n",
    "    def __len__(self):\n",
    "        return len(self.fullname())\n",
    "        \n",
    "emp_1 = Employee('jayshree', 'choudhury', 50000)\n",
    "emp_2 = Employee('Test', 'Employee', 60000)\n",
    "\n",
    "print(emp_1 + emp_2)\n",
    "\n",
    "#print(len(emp_1))"
   ]
  },
  {
   "cell_type": "code",
   "execution_count": 7,
   "metadata": {},
   "outputs": [
    {
     "name": "stdout",
     "output_type": "stream",
     "text": [
      "Jayshree\n",
      "Jayshree choudhury@email.com\n",
      "Jayshree choudhury\n",
      "Delete name!\n"
     ]
    }
   ],
   "source": [
    "class Employee:\n",
    "    def __init__(self,first,last):\n",
    "        self.first=first\n",
    "        self.last=last\n",
    "        \n",
    "    @property\n",
    "    def email(self):\n",
    "        return '{} {}@email.com'.format(self.first,self.last)\n",
    "    @property\n",
    "    def fullname(self):\n",
    "        return '{} {}'.format(self.first,self.last)\n",
    "    @fullname.setter\n",
    "    def fullname(self,name):\n",
    "        first, last = name.split(' ')\n",
    "        self.first=first\n",
    "        self.last=last\n",
    "        \n",
    "    @fullname.deleter\n",
    "    def fullname(self):\n",
    "        print(\"Delete name!\")\n",
    "        self.first=None\n",
    "        self.last=None\n",
    "\n",
    "emp_1 = Employee('ruby','babi')\n",
    "emp_1.fullname=\"Jayshree choudhury\"        \n",
    "\n",
    "print(emp_1.first)\n",
    "print(emp_1.email)\n",
    "print(emp_1.fullname)\n",
    "\n",
    "del emp_1.fullname"
   ]
  },
  {
   "cell_type": "code",
   "execution_count": null,
   "metadata": {},
   "outputs": [],
   "source": []
  }
 ],
 "metadata": {
  "kernelspec": {
   "display_name": "Python 3",
   "language": "python",
   "name": "python3"
  },
  "language_info": {
   "codemirror_mode": {
    "name": "ipython",
    "version": 3
   },
   "file_extension": ".py",
   "mimetype": "text/x-python",
   "name": "python",
   "nbconvert_exporter": "python",
   "pygments_lexer": "ipython3",
   "version": "3.6.10"
  }
 },
 "nbformat": 4,
 "nbformat_minor": 4
}
